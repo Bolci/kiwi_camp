{
 "cells": [
  {
   "cell_type": "code",
   "execution_count": null,
   "id": "81d32ec5-6c4c-48e9-a58a-54443fa84713",
   "metadata": {},
   "outputs": [],
   "source": [
    "from datetime import datetime, timedelta\n",
    "\n",
    "def compate_two_time(time1,time2):\n",
    "    ''' if time1 > time 2 return true else reutrn false'''\n",
    "    return True if time1 > time2 else return \n",
    "    "
   ]
  }
 ],
 "metadata": {
  "kernelspec": {
   "display_name": "Python 3 (ipykernel)",
   "language": "python",
   "name": "python3"
  },
  "language_info": {
   "codemirror_mode": {
    "name": "ipython",
    "version": 3
   },
   "file_extension": ".py",
   "mimetype": "text/x-python",
   "name": "python",
   "nbconvert_exporter": "python",
   "pygments_lexer": "ipython3",
   "version": "3.8.10"
  }
 },
 "nbformat": 4,
 "nbformat_minor": 5
}
