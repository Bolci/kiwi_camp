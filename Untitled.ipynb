{
 "cells": [
  {
   "cell_type": "code",
   "execution_count": 4,
   "id": "81d32ec5-6c4c-48e9-a58a-54443fa84713",
   "metadata": {},
   "outputs": [],
   "source": [
    "from datetime import datetime, timedelta\n",
    "\n",
    "def compare_two_time(time1,time2):\n",
    "    ''' if time1 > time 2 return true else reutrn false'''\n",
    "    time_a = datetime.fromisoformat(time1)    \n",
    "    time_b = datetime.fromisoformat(time2)\n",
    "    \n",
    "    \n",
    "    return True if time_a > time_b else False\n",
    "    "
   ]
  },
  {
   "cell_type": "code",
   "execution_count": 6,
   "id": "93371a46-e99d-46ae-99ef-db5f687e3634",
   "metadata": {},
   "outputs": [
    {
     "data": {
      "text/plain": [
       "True"
      ]
     },
     "execution_count": 6,
     "metadata": {},
     "output_type": "execute_result"
    }
   ],
   "source": [
    "a = \"2021-09-02T00:00:00\"\n",
    "b = \"2021-09-02T00:00:10\"\n",
    "\n",
    "compare_two_time(b,a)"
   ]
  },
  {
   "cell_type": "code",
   "execution_count": null,
   "id": "764a5d4f-b5b7-4730-9791-1604eb4b7e73",
   "metadata": {},
   "outputs": [],
   "source": []
  }
 ],
 "metadata": {
  "kernelspec": {
   "display_name": "Python 3 (ipykernel)",
   "language": "python",
   "name": "python3"
  },
  "language_info": {
   "codemirror_mode": {
    "name": "ipython",
    "version": 3
   },
   "file_extension": ".py",
   "mimetype": "text/x-python",
   "name": "python",
   "nbconvert_exporter": "python",
   "pygments_lexer": "ipython3",
   "version": "3.8.10"
  }
 },
 "nbformat": 4,
 "nbformat_minor": 5
}
