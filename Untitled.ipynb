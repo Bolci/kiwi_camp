{
 "cells": [
  {
   "cell_type": "code",
   "execution_count": 1,
   "metadata": {},
   "outputs": [],
   "source": [
    "import os\n",
    "import argparse\n",
    "\n",
    "from operator import itemgetter\n",
    "from DataBank import DataBank\n",
    "from utils import *\n",
    "from operator import itemgetter"
   ]
  },
  {
   "cell_type": "code",
   "execution_count": 2,
   "metadata": {},
   "outputs": [
    {
     "data": {
      "text/plain": [
       "True"
      ]
     },
     "execution_count": 2,
     "metadata": {},
     "output_type": "execute_result"
    }
   ],
   "source": [
    "time = \"2021-09-02T05:50:00\"\n",
    "time2 = \"2021-09-02T10:50:00\"\n",
    "\n",
    "is_time_in_interval(time,time2)"
   ]
  },
  {
   "cell_type": "code",
   "execution_count": 16,
   "metadata": {},
   "outputs": [],
   "source": [
    "class Data_Explorer():\n",
    "    def __init__(self,):\n",
    "        pass\n",
    "    \n",
    "    def is_pars_valid(self, input_parameters):\n",
    "        pass\n",
    "    \n",
    "    def filter_by_param(self, matches, kwargs):\n",
    "        \n",
    "        # bags\n",
    "        if kwargs['bags'] != '0':\n",
    "            results = list(map(lambda x: x if int(x['bags_allowed']) >= kwargs['bags'] else None,matches))\n",
    "            results = list(filter(None, results))\n",
    "        \n",
    "        #other params....\n",
    "        \n",
    "        return results\n",
    "    \n",
    "    def direct_search(self,data_bank,from_place,to_place):\n",
    "        #direct conections\n",
    "        matches = []\n",
    "        \n",
    "        if data_bank.connection_exist([from_place,to_place]):\n",
    "            direct_matches = data_bank.get_matches(from_place,to_place)\n",
    "            matches += direct_matches\n",
    "        \n",
    "        return matches\n",
    "    \n",
    "    \n",
    "    \n",
    "    def indirect_search(self,data_bank,from_place,to_place):\n",
    "        first_conection = data_bank._basic_graph[from_place]\n",
    "        selected = [from_place]\n",
    "\n",
    "        \n",
    "        def grow(values_to_search, depth = 0):\n",
    "        \n",
    "            single_elem = next(iter(values_to_search))\n",
    "            print('single')\n",
    "            print(single_elem)\n",
    "            print(\"to\")\n",
    "            print(to_place)\n",
    "            if single_elem not in selected:\n",
    "                connection = data_bank._basic_graph[single_elem]\n",
    "                grow(connection)\n",
    "\n",
    "                print(single_elem)\n",
    "                \n",
    "            elif single_elem == to_place:\n",
    "                selected.append(single_elem)\n",
    "                return selected\n",
    "                \n",
    "        \n",
    "        grow(first_conection)\n",
    "        \n",
    "    \n",
    "    \n",
    "    def search(self, data_bank,from_place,to_place, **kwargs):\n",
    "        \n",
    "        matches = self.direct_search(data_bank,from_place,to_place)\n",
    "        print(self.indirect_search(data_bank,from_place,to_place))\n",
    "        \n",
    "        \n",
    "        \n",
    " \n",
    "        #indirect conection\n",
    "        visited = [from_place]\n",
    "        #self._basic_graph[from_place]\n",
    "        \n",
    "        matches = self.filter_by_param(matches,kwargs)\n",
    "        print(matches)\n",
    "    "
   ]
  },
  {
   "cell_type": "code",
   "execution_count": 17,
   "metadata": {},
   "outputs": [
    {
     "name": "stdout",
     "output_type": "stream",
     "text": [
      "defaultdict(<class 'set'>, {'DHE': {'NRX', 'SML', 'NIZ'}, 'NRX': {'DHE', 'SML', 'NIZ'}, 'NIZ': {'DHE', 'SML', 'NRX'}, 'SML': {'NRX', 'NIZ', 'DHE'}})\n",
      "single\n",
      "NRX\n",
      "to\n",
      "NIZ\n",
      "single\n",
      "DHE\n",
      "to\n",
      "NIZ\n",
      "NRX\n",
      "None\n",
      "[{'flight_no': 'WM478', 'origin': 'DHE', 'destination': 'NIZ', 'departure': '2021-09-01T00:40:00', 'arrival': '2021-09-01T05:50:00', 'base_price': '248.0', 'bag_price': '12', 'bags_allowed': '2'}, {'flight_no': 'IM218', 'origin': 'NIZ', 'destination': 'SML', 'departure': '2021-09-01T22:30:00', 'arrival': '2021-09-02T02:35:00', 'base_price': '120.0', 'bag_price': '9', 'bags_allowed': '2'}, {'flight_no': 'IM567', 'origin': 'NRX', 'destination': 'NIZ', 'departure': '2021-09-02T06:05:00', 'arrival': '2021-09-02T09:15:00', 'base_price': '51.0', 'bag_price': '9', 'bags_allowed': '2'}, {'flight_no': 'IM286', 'origin': 'DHE', 'destination': 'NRX', 'departure': '2021-09-02T07:40:00', 'arrival': '2021-09-02T10:15:00', 'base_price': '38.0', 'bag_price': '9', 'bags_allowed': '2'}]\n"
     ]
    }
   ],
   "source": [
    "def main():\n",
    "    data_exp = Data_Explorer()\n",
    "    \n",
    "    \n",
    "    path = \"example\"\n",
    "    all_files = os.listdir(path)\n",
    "    csv_file = load_csv(path + '/' + all_files[2])\n",
    "    #print(csv_file)\n",
    "    \n",
    "    Data_bank = DataBank(csv_file)\n",
    "    print(Data_bank._basic_graph)\n",
    "    #print(Data_bank.database)\n",
    "    from_dest = \"DHE\"\n",
    "    to_dest = \"NIZ\"\n",
    "    \n",
    "    data_exp.search(Data_bank,from_dest,to_dest, bags = 2, returnF = False)\n",
    "\n",
    "\n",
    "if __name__ == \"__main__\":\n",
    "    main()\n",
    "    \n",
    "    \n",
    "    \n",
    "    \n",
    "\n"
   ]
  },
  {
   "cell_type": "code",
   "execution_count": 2,
   "metadata": {},
   "outputs": [
    {
     "ename": "NameError",
     "evalue": "name 'a' is not defined",
     "output_type": "error",
     "traceback": [
      "\u001b[1;31m---------------------------------------------------------------------------\u001b[0m",
      "\u001b[1;31mNameError\u001b[0m                                 Traceback (most recent call last)",
      "\u001b[1;32m<ipython-input-2-66a093eec050>\u001b[0m in \u001b[0;36m<module>\u001b[1;34m\u001b[0m\n\u001b[0;32m      2\u001b[0m \u001b[0mtime2\u001b[0m \u001b[1;33m=\u001b[0m \u001b[0mtime\u001b[0m \u001b[1;33m=\u001b[0m \u001b[1;34m\"2021-09-02T04:50:00\"\u001b[0m\u001b[1;33m\u001b[0m\u001b[1;33m\u001b[0m\u001b[0m\n\u001b[0;32m      3\u001b[0m \u001b[1;33m\u001b[0m\u001b[0m\n\u001b[1;32m----> 4\u001b[1;33m \u001b[0mis_time_in_interval\u001b[0m\u001b[1;33m(\u001b[0m\u001b[0mtime\u001b[0m\u001b[1;33m,\u001b[0m\u001b[0mtime2\u001b[0m\u001b[1;33m)\u001b[0m\u001b[1;33m\u001b[0m\u001b[1;33m\u001b[0m\u001b[0m\n\u001b[0m",
      "\u001b[1;32m~\\Documents\\aPersonal\\Kiwi_challenge\\python-weekend-entry-task\\utils.py\u001b[0m in \u001b[0;36mis_time_in_interval\u001b[1;34m(time1, time2, minimum_delta, maximum_delta)\u001b[0m\n\u001b[0;32m     18\u001b[0m     \u001b[1;34m''' , expected format 2021-09-02T05:50:00, expected todays_dat = '2021-09-02T00:00:00'''\u001b[0m\u001b[1;33m\u001b[0m\u001b[1;33m\u001b[0m\u001b[0m\n\u001b[0;32m     19\u001b[0m \u001b[1;33m\u001b[0m\u001b[0m\n\u001b[1;32m---> 20\u001b[1;33m     \u001b[0mprint\u001b[0m\u001b[1;33m(\u001b[0m\u001b[0mparse_time\u001b[0m\u001b[1;33m(\u001b[0m\u001b[0mtime1\u001b[0m\u001b[1;33m)\u001b[0m\u001b[1;33m)\u001b[0m\u001b[1;33m\u001b[0m\u001b[1;33m\u001b[0m\u001b[0m\n\u001b[0m\u001b[0;32m     21\u001b[0m \u001b[1;33m\u001b[0m\u001b[0m\n\u001b[0;32m     22\u001b[0m \u001b[1;33m\u001b[0m\u001b[0m\n",
      "\u001b[1;32m~\\Documents\\aPersonal\\Kiwi_challenge\\python-weekend-entry-task\\utils.py\u001b[0m in \u001b[0;36mparse_time\u001b[1;34m(time)\u001b[0m\n\u001b[0;32m     11\u001b[0m     \u001b[1;34m''' , expected format 2021-09-02T05:50:00, expected todays_dat = '2021-09-02T00:00:00'''\u001b[0m\u001b[1;33m\u001b[0m\u001b[1;33m\u001b[0m\u001b[0m\n\u001b[0;32m     12\u001b[0m     \u001b[0mdays\u001b[0m \u001b[1;33m=\u001b[0m \u001b[0mtime\u001b[0m\u001b[1;33m[\u001b[0m\u001b[1;33m:\u001b[0m\u001b[1;36m10\u001b[0m\u001b[1;33m]\u001b[0m\u001b[1;33m.\u001b[0m\u001b[0msplit\u001b[0m\u001b[1;33m(\u001b[0m\u001b[1;34m'-'\u001b[0m\u001b[1;33m)\u001b[0m\u001b[1;33m\u001b[0m\u001b[1;33m\u001b[0m\u001b[0m\n\u001b[1;32m---> 13\u001b[1;33m     \u001b[0mtime\u001b[0m \u001b[1;33m=\u001b[0m \u001b[0ma\u001b[0m\u001b[1;33m[\u001b[0m\u001b[1;33m-\u001b[0m\u001b[1;36m8\u001b[0m\u001b[1;33m:\u001b[0m\u001b[1;33m]\u001b[0m\u001b[1;33m.\u001b[0m\u001b[0msplit\u001b[0m\u001b[1;33m(\u001b[0m\u001b[1;34m':'\u001b[0m\u001b[1;33m)\u001b[0m\u001b[1;33m\u001b[0m\u001b[1;33m\u001b[0m\u001b[0m\n\u001b[0m\u001b[0;32m     14\u001b[0m \u001b[1;33m\u001b[0m\u001b[0m\n\u001b[0;32m     15\u001b[0m     \u001b[1;32mreturn\u001b[0m \u001b[0mlist\u001b[0m\u001b[1;33m(\u001b[0m\u001b[0mmap\u001b[0m\u001b[1;33m(\u001b[0m\u001b[0mint\u001b[0m\u001b[1;33m,\u001b[0m\u001b[0mdays\u001b[0m \u001b[1;33m+\u001b[0m \u001b[0mtime\u001b[0m\u001b[1;33m)\u001b[0m\u001b[1;33m)\u001b[0m\u001b[1;33m\u001b[0m\u001b[1;33m\u001b[0m\u001b[0m\n",
      "\u001b[1;31mNameError\u001b[0m: name 'a' is not defined"
     ]
    }
   ],
   "source": []
  },
  {
   "cell_type": "code",
   "execution_count": null,
   "metadata": {},
   "outputs": [],
   "source": []
  }
 ],
 "metadata": {
  "kernelspec": {
   "display_name": "Python 3",
   "language": "python",
   "name": "python3"
  },
  "language_info": {
   "codemirror_mode": {
    "name": "ipython",
    "version": 3
   },
   "file_extension": ".py",
   "mimetype": "text/x-python",
   "name": "python",
   "nbconvert_exporter": "python",
   "pygments_lexer": "ipython3",
   "version": "3.7.9"
  }
 },
 "nbformat": 4,
 "nbformat_minor": 4
}
